{
  "nbformat": 4,
  "nbformat_minor": 0,
  "metadata": {
    "colab": {
      "provenance": []
    },
    "kernelspec": {
      "name": "python3",
      "display_name": "Python 3"
    },
    "language_info": {
      "name": "python"
    }
  },
  "cells": [
    {
      "cell_type": "markdown",
      "source": [
        "Q1. What is Object-Oriented Programming (OOP)?\n",
        "\n",
        "*   OOP is a programming paradigm, or style of programming, that organizes software design around data or objects, rather than functions and logic.\n",
        "\n",
        "*   Benefits of OOPS:-\n",
        "Flexibility,\n",
        "Modularity,\n",
        "Reusability,\n",
        "Maintainability.\n",
        "\n"
      ],
      "metadata": {
        "id": "6GD9zMVszMHK"
      }
    },
    {
      "cell_type": "markdown",
      "source": [
        "Q2. What is a class in OOP?\n",
        "\n",
        "*   The class is a user-defined data structure that combines the methods and data members into a single entity.\n",
        "*   Classes are sort of like blueprints or templates for code in the production of objects.\n",
        "\n",
        "*   You can make as many objects as you desire using a class.\n",
        "\n",
        "\n",
        "\n",
        "\n"
      ],
      "metadata": {
        "id": "pYqVMSitz0sn"
      }
    },
    {
      "cell_type": "markdown",
      "source": [
        "Q3. What is an object in OOP?\n",
        "\n",
        "*   Objects are instances of classes.It consists of a set of methods and attributes. Actions are carried out using a class's object.\n",
        "*   Any object needs to have unique identification. An attribute of an object reflects both the properties and the state of the object.\n",
        "\n"
      ],
      "metadata": {
        "id": "78WtKAb90Fpq"
      }
    },
    {
      "cell_type": "markdown",
      "source": [
        "Q4. What is the difference between abstraction and encapsulation?\n",
        "\n",
        "*   Abstraction and encapsulation are two fundamental concepts in OOPs that work together to create well-structured and maintainable code. While they are often used interchangeably, they have distinct meanings.\n",
        "*  **Abstraction**\n",
        "\n",
        "1. Abstraction focuses on hiding implementation details aims at delivering only the minimum amount of functionality to ease the user's interaction and avoid complications.\n",
        "2.   This is achieved using abstract classes, interfaces, and abstract methods that describe what a system can do but not how it does it. It's just seeing a car as one piece without having to understand what's inside its parts.\n",
        "\n",
        "*   **Encapusation**\n",
        "\n",
        "1.  Encapsulation focuses on bundling data and methods within a single object ensures that the data is not accessible or modifiable without proper authorization, thus maintaining its integrity and privacy.\n",
        "2.   Access modifiers such as public, private, and protected control the visibility. It is similar to a capsule that keeps the medicine safe and protects it from the environment.\n"
      ],
      "metadata": {
        "id": "2av-FAEn0VI2"
      }
    },
    {
      "cell_type": "markdown",
      "source": [
        "Q5. What are dunder methods in Python?\n",
        "\n",
        "*   Dunder methods, also known as magic methods or special methods, in Python are special reserved methods that are surrounded by double underscores, like this:- `__method__`. These methods allow you to define how instances of your classes behave when they are used with built-in Python functions or operators.\n",
        "*  ** Some common dunder methods are:**\n",
        "\n",
        "1.     __init__\n",
        "\n",
        "1.     __str__\n",
        "2.     __repr__\n",
        "\n",
        "\n",
        "\n",
        "\n",
        "2.      __add__\n",
        "\n",
        "1.      __len__\n",
        "\n",
        "\n",
        "\n",
        "\n",
        "\n",
        "\n"
      ],
      "metadata": {
        "id": "cErhWYnT1L5T"
      }
    },
    {
      "cell_type": "markdown",
      "source": [
        "Q6. Explain the concept of inheritance in OOP.\n",
        "\n",
        "\n",
        "*   Inheritance: Inheritance plays a significant role in an object-oriented programming language.\n",
        "\n",
        "*   Inheritance in Python refers to the process of a child class receiving the parent class's properties.\n",
        "*   The reuse of code is inheritance's main goal.\n",
        "\n",
        "\n",
        "*   Instead of starting from scratch when developing a new class, we can use the existing class instead of re-creating it from scratch.\n",
        "\n"
      ],
      "metadata": {
        "id": "V9Hkydui2I2q"
      }
    },
    {
      "cell_type": "markdown",
      "source": [
        "Q7. What is polymorphism in OOP?\n",
        "\n",
        "*   In OOP, polymorphism refers to an object's capacity to assume several forms. Simply said, polymorphism enables us to carry out a single activity in a variety of ways.\n",
        "\n"
      ],
      "metadata": {
        "id": "ipVAI2CF2hvZ"
      }
    },
    {
      "cell_type": "markdown",
      "source": [
        "Q8. How is encapsulation achieved in Python?\n",
        "\n",
        "*   Encapsulation is a Python technique for combining data and functions into a single object. A class, for instance, contains all the data i.e. methods and variables\n",
        "*   A class's data members and methods can be made private or protected in order to achieve encapsulation. Direct access modifiers like public, private and protected don't exist in Python. Though Single and double underscores can be used to accomplish this.\n",
        "\n"
      ],
      "metadata": {
        "id": "WdQJpM-V8u97"
      }
    },
    {
      "cell_type": "markdown",
      "source": [
        "Q9. What is a constructor in Python?\n",
        "\n",
        "*   A Constructors in Python is a special class method for creating and initializing an object instance at that class. Every Python class has a constructor; it's not required to be defined explicitly. The purpose of the constructor is to construct an object and assign a value to the object's members.\n",
        "\n"
      ],
      "metadata": {
        "id": "3yqtdnYQ9JxR"
      }
    },
    {
      "cell_type": "markdown",
      "source": [
        "Q10. What are class and static methods in Python?\n",
        "\n",
        "\n",
        "*  Class methods  are methods that are bound to the class and not the instance of the class. They can access or modify class state that applies across all instances of the class. Class methods are defined using the @classmethod decorator.\n",
        "*   Static methods are methods that belong to the class and don't access or modify class or instance state. They are defined using the @staticmethod decorator.\n",
        "\n"
      ],
      "metadata": {
        "id": "12HgN7vrNqKu"
      }
    },
    {
      "cell_type": "markdown",
      "source": [
        "Q11. What is method overloading in Python?\n",
        "\n",
        "*   Two or more methods have the same name but different numbers of parameters or different types of parameters, or both. These methods are called overloaded methods and this is called method overloading.\n",
        "\n",
        "\n"
      ],
      "metadata": {
        "id": "mf6ly_ngOMfv"
      }
    },
    {
      "cell_type": "markdown",
      "source": [
        "Q12. What is method overriding in OOP?\n",
        "\n",
        "*   Method overriding is an ability of any object-oriented programming language that allows a subclass or child class to provide a specific implementation of a method that is already provided by one of its super-classes or parent classes.\n",
        "\n",
        "\n"
      ],
      "metadata": {
        "id": "Iqp8B_zGPQX_"
      }
    },
    {
      "cell_type": "markdown",
      "source": [
        "Q13. What is a property decorator in Python?\n",
        "\n",
        "*   In Python, a property decorator is a powerful tool that allows you to define class attributes as if they were regular attributes while actually controlling their access and behavior behind the scenes.\n",
        "\n",
        "*   Property decorators provide a clean and elegant way to manage attribute access in Python classes. By using property decorators effectively, you can create more robust and well-structured object-oriented code because they enhance code readability, maintainability, and data integrity.\n",
        "\n"
      ],
      "metadata": {
        "id": "0CtPYk1zPXn6"
      }
    },
    {
      "cell_type": "markdown",
      "source": [
        "Q14. Why is polymorphism important in OOP?\n",
        "\n",
        "*   Polymorphism is a core concept in Object-Oriented Programming (OOP) that enables a single interface or method to operate differently based on the object it is acting upon.\n",
        "*  Importance of polymorphism:\n",
        "\n",
        "1.   Code Reusability: This reduces code duplication and enhances reusability.\n",
        "\n",
        "1.   Flexibility and Extensibility: This makes it easier to extend and maintain systems over time.\n",
        "2.   Simplified Code: Polymorphism simplifies code by allowing developers to use common interfaces for different types, which leads to cleaner and more readable code.\n",
        "\n",
        "\n",
        "2.   Dynamic Behavior: Polymorphism supports dynamic method invocation enabling decisions to be made at runtime about which method to call.\n",
        "\n",
        "\n",
        "\n",
        "\n",
        "\n",
        "\n",
        "\n",
        "\n"
      ],
      "metadata": {
        "id": "FoxjaJZbPurA"
      }
    },
    {
      "cell_type": "markdown",
      "source": [
        "Q15. What is an abstract class in Python?\n",
        "\n",
        "*   An abstract class is a class that cannot be instantiated directly. It serves as a blueprint or template for other classes, defining a common interface and enforcing a specific structure.\n",
        "\n",
        "\n"
      ],
      "metadata": {
        "id": "5zA-s2oXQh96"
      }
    },
    {
      "cell_type": "markdown",
      "source": [
        "Q16. What are the advantages of OOP?\n",
        "\n",
        "*   The advantages of OOPs are:\n",
        "\n",
        "1.  Reusability: This promotes code reuse, reducing development time and effort.\n",
        "\n",
        "1.   Flexibility: This makes the code more adaptable to changes and easier to extend with new features.\n",
        "2.  Improved Code Readability: OOP promotes a more organized and structured approach to coding, making it easier for developers to understand and maintain the codebase.\n",
        "2.   Collaboration: OOP facilitates collaboration among developers by providing a clear and well-defined structure for organizing code.\n",
        "\n",
        "1.   Real-World Modeling: OOP allows you to model real-world entities and their relationships in a natural and intuitive way.\n",
        "\n",
        "\n",
        "\n",
        "\n",
        "\n"
      ],
      "metadata": {
        "id": "fUSxKNj7QruG"
      }
    },
    {
      "cell_type": "markdown",
      "source": [
        "Q17. What is the difference between a class variable and an instance variable?\n",
        "\n",
        "*   Class Variable\n",
        "\n",
        "1.    Class variables are shared by all objects created from the same class.\n",
        "2.   They are defined within the class but outside any method.\n",
        "1.   Accessed using the class name followed by the dot operator like this:- `ClassName.variable_name`\n",
        "\n",
        "*   Instance Variable\n",
        "\n",
        "1.   Instance variables are specific to each object created from the class\n",
        "2.   Defined within the constructor     `__init__ `      or other methods: Usually defined within the `__init__` method.\n",
        "\n",
        "1.    Accessed using the object name followed by the dot operator like this:- object_name.variable_name\n",
        "\n",
        "\n",
        "\n",
        "\n",
        "\n",
        "\n"
      ],
      "metadata": {
        "id": "i-DeMXe7RC0p"
      }
    },
    {
      "cell_type": "markdown",
      "source": [
        "Q18. What is multiple inheritance in Python?\n",
        "\n",
        "*   In Multiple inheritance One child class may inherit from several parent classes when there is multiple inheritance.\n",
        "*  Multiple inheritance allows classes to inherit and combine the behavior of multiple parent classes, providing flexibility in designing complex class hierarchies. However, it's important to carefully consider the design and potential complexities that can arise when using multiple inheritance.\n",
        "\n"
      ],
      "metadata": {
        "id": "ZtilC7mpSoic"
      }
    },
    {
      "cell_type": "markdown",
      "source": [
        "Q19.Explain the purpose of `__str__ `and `__repr__` methods in Python?\n",
        "\n",
        "\n",
        "*   In Python, `__str__` and `__repr__` are dunder methods used to control how objects are represented as strings.\n",
        "*   `_str__`: This method is called when the str() function is used on an instance of the class. It should return a string representation of the object.\n",
        "*  ` __repr__`: This method is called when the repr() function is used on an instance of the class. It should return an unambiguous string representation of the object, which can be used to recreate the object.\n",
        "\n",
        "\n",
        "\n",
        "\n"
      ],
      "metadata": {
        "id": "C8SnABUFS1zD"
      }
    },
    {
      "cell_type": "markdown",
      "source": [
        "Q20. What is the significance of the `super()` function in Python?\n",
        "\n",
        "*   The `super()` function is essential in Python for managing inheritance. It simplifies code, promotes reusability, and ensures proper initialization and method resolution in complex inheritance scenarios. It is particularly powerful in systems with multiple inheritance or dynamic class hierarchies.\n",
        "*  Benefits of `super()` function:-\n",
        "\n",
        "1.  Accessing Parent Class Methods and Attributes\n",
        "\n",
        "\n",
        "2.   Avoiding Explicit Parent Class Names\n",
        "\n",
        "1.   Working with Multiple Inheritance\n",
        "2.   Code Reusability\n",
        "\n",
        "\n",
        "\n",
        "\n",
        "\n",
        "\n"
      ],
      "metadata": {
        "id": "f2vfHfV5Tcxy"
      }
    },
    {
      "cell_type": "markdown",
      "source": [
        "Q21. What is the significance of the __del__ method in Python?\n",
        "*   The __del__ method in Python is a special method, also known as the destructor, which is called when an object is about to be destroyed. Its primary purpose is to define cleanup actions that need to occur before the object's memory is deallocated by the garbage collector.\n",
        "*   Use of __del__ method:-\n",
        "\n",
        "1.   The primary purpose of __del__ is to perform any necessary cleanup operations before an object is permanently removed from memory.\n",
        "\n",
        "1.   Closing files that the object was using.\n",
        "2.   Releasing external resources like network connections or database connections\n",
        "\n",
        "\n",
        "2.   Performing any other necessary cleanup tasks.\n",
        "\n",
        "\n",
        "\n"
      ],
      "metadata": {
        "id": "KW7OFvK7T16c"
      }
    },
    {
      "cell_type": "markdown",
      "source": [
        "Q22. What is the difference between `@staticmethod` and `@classmethod` in Python?\n",
        "*  `@staticmethod`:\n",
        "1.   It does not take any implicit first argument (like self or cls).\n",
        "1.   It cannot access or modify instance-level (self) or class-level (cls) data.\n",
        "2.   Primarily used for utility functions that logically belong to the class but don't need to access class or instance-specific data.\n",
        "2.  Static methods can be inherited and overridden by subclasses.\n",
        "1.   Can be called on both the class and its instances.\n",
        "*  ` @classmethod`:\n",
        "1.   It takes the class (cls) as the first argument.\n",
        "1.   It has access to class-level data and can modify class-level attributes.\n",
        "1.  Often used for defining alternative constructors or methods that operate on the class rather than an instance.\n",
        "2.   Class methods can be inherited and overridden by subclasses, and they will receive the subclass as cls when called from an instance.\n",
        "2.   Can be called on both the class and its instances, but always receives the class as the first argument."
      ],
      "metadata": {
        "id": "ulft9UcvUOuS"
      }
    },
    {
      "cell_type": "markdown",
      "source": [
        "Q23. How does polymorphism work in Python with inheritance?\n",
        "*   Polymorphism, in the context of object-oriented programming, allows objects of different classes to be treated as objects of a common type. In Python, inheritance plays a crucial role in achieving polymorphism.\n",
        "\n",
        "\n",
        "\n"
      ],
      "metadata": {
        "id": "Ivq1NOieVnmZ"
      }
    },
    {
      "cell_type": "markdown",
      "source": [
        "Q24. What is method chaining in Python OOP?\n",
        "\n",
        "*   Method chaining is a powerful technique in Python that allows you to call multiple methods on an object in a single, continuous line of code. This approach makes the code cleaner, more readable, and often easier to maintain.\n",
        "*   Benefits of method chaining in python are:\n",
        "1.  Improved Readability\n",
        "\n",
        "1.  Enhanced Fluency\n",
        "2.  Reduced Boilerplate"
      ],
      "metadata": {
        "id": "MHhVZFUKW2ao"
      }
    },
    {
      "cell_type": "markdown",
      "source": [
        "Q25. What is the purpose of the __call__ method in Python?\n",
        "*   The __call__ method in Python allows an instance of a class to be called as if it were a function. This means that you can make objects of a class behave like callable functions. When you define the __call__ method in a class, you enable instances of that class to be invoked using parentheses, just like a function.\n",
        "*   Purpose:\n",
        "\n",
        "1.   Making Objects Callable: Allows instances of a class to be called like a function using parentheses ().\n",
        "2.   Custom Behavior: Enables defining custom logic that runs when the object is called.\n",
        "\n",
        "1.   Dynamic Dispatch: Facilitates dynamic behavior changes, like handling different arguments or performing computations based on the call.\n",
        "2.   Functionality Encapsulation: Lets you encapsulate behavior inside an object, making the object more versatile."
      ],
      "metadata": {
        "id": "tKQZqlVVXGYb"
      }
    },
    {
      "cell_type": "code",
      "source": [
        "#Practical question\n",
        "'''\n",
        "Q1.  Create a parent class Animal with a method speak() that prints a generic message. Create a child class Dog\n",
        "that overrides the speak() method to print \"Bark!\"\n",
        "\n",
        "'''\n",
        "'''\n",
        "Answere:1\n",
        "'''\n",
        "class Animal:\n",
        "    def speak(self):\n",
        "        print(\"Some generic sound\")\n",
        "class Dog(Animal):\n",
        "    def speak(self):\n",
        "        print(\"Bark!\")\n",
        "\n",
        "generic_animal = Animal()\n",
        "dog = Dog()\n",
        "\n",
        "generic_animal.speak()\n",
        "dog.speak()"
      ],
      "metadata": {
        "colab": {
          "base_uri": "https://localhost:8080/"
        },
        "id": "ujCtf94kXal4",
        "outputId": "9f08d661-eb52-407f-e623-baf7d797ec3b"
      },
      "execution_count": 1,
      "outputs": [
        {
          "output_type": "stream",
          "name": "stdout",
          "text": [
            "Some generic sound\n",
            "Bark!\n"
          ]
        }
      ]
    },
    {
      "cell_type": "code",
      "source": [
        "#Practical question\n",
        "'''\n",
        "Q2. Write a program to create an abstract class Shape with a method area(). Derive classes Circle and Rectangle\n",
        "from it and implement the area() method in both.\n",
        "\n",
        "'''\n",
        "'''\n",
        "Answere:2\n",
        "'''\n",
        "from abc import ABC, abstractmethod\n",
        "import math\n",
        "\n",
        "class Shape(ABC):\n",
        "    @abstractmethod\n",
        "    def area(self):\n",
        "        pass\n",
        "\n",
        "class Circle(Shape):\n",
        "    def __init__(self, radius):\n",
        "        self.radius = radius\n",
        "\n",
        "    def area(self):\n",
        "        return math.pi * self.radius**2\n",
        "\n",
        "class Rectangle(Shape):\n",
        "    def __init__(self, width, height):\n",
        "        self.width = width\n",
        "        self.height = height\n",
        "\n",
        "    def area(self):\n",
        "        return self.width * self.height\n",
        "circle = Circle(10)\n",
        "print(\"Circle area:\", circle.area())\n",
        "\n",
        "rectangle = Rectangle(8, 9)\n",
        "print(\"Rectangle area:\", rectangle.area())"
      ],
      "metadata": {
        "colab": {
          "base_uri": "https://localhost:8080/"
        },
        "id": "-_j65wjjYZDu",
        "outputId": "cb66e3e1-4c48-4d7a-bf54-16f24f0c5e1a"
      },
      "execution_count": 2,
      "outputs": [
        {
          "output_type": "stream",
          "name": "stdout",
          "text": [
            "Circle area: 314.1592653589793\n",
            "Rectangle area: 72\n"
          ]
        }
      ]
    },
    {
      "cell_type": "code",
      "source": [
        "#Practical question\n",
        "'''\n",
        "Q3. Implement a multi-level inheritance scenario where a class Vehicle has an attribute type. Derive a class Car\n",
        "and further derive a class ElectricCar that adds a battery attribute.\n",
        "\n",
        "'''\n",
        "'''\n",
        "Answere:3\n",
        "'''\n",
        "class Vehicle:\n",
        "    def __init__(self, vehicle_type):\n",
        "        self.vehicle_type = vehicle_type\n",
        "\n",
        "class Car(Vehicle):\n",
        "    def __init__(self, vehicle_type, brand, model):\n",
        "        super().__init__(vehicle_type)\n",
        "        self.brand = brand\n",
        "        self.model = model\n",
        "\n",
        "class ElectricCar(Car):\n",
        "    def __init__(self, vehicle_type, brand, model, battery_capacity):\n",
        "        super().__init__(vehicle_type, brand, model)\n",
        "        self.battery_capacity = battery_capacity\n",
        "\n",
        "#i'm using `\\n` to print all the details in new line\n",
        "    def display_info(self):\n",
        "        return (f\"Type: {self.vehicle_type},\\nBrand: {self.brand},\\nModel: {self.model}, \"\n",
        "                f\"\\nBattery Capacity: {self.battery_capacity} kWh\")\n",
        "\n",
        "electric_car = ElectricCar(\"Electric\", \"Tata\", \"Harrier\", 270)\n",
        "\n",
        "print(electric_car.display_info())"
      ],
      "metadata": {
        "colab": {
          "base_uri": "https://localhost:8080/"
        },
        "id": "aiLmdqsqYo3R",
        "outputId": "f133a46d-fdfa-42f1-e804-cb0a9f521e38"
      },
      "execution_count": 4,
      "outputs": [
        {
          "output_type": "stream",
          "name": "stdout",
          "text": [
            "Type: Electric,\n",
            "Brand: Tata,\n",
            "Model: Harrier, \n",
            "Battery Capacity: 270 kWh\n"
          ]
        }
      ]
    },
    {
      "cell_type": "code",
      "source": [
        "#Practical question\n",
        "'''\n",
        "Q4. Demonstrate polymorphism by creating a base class Bird with a method fly(). Create two derived classes\n",
        "Sparrow and Penguin that override the fly() method.\n",
        "\n",
        "'''\n",
        "'''\n",
        "Answere:4\n",
        "'''\n",
        "from abc import ABC, abstractmethod\n",
        "\n",
        "class Bird(ABC):\n",
        "    @abstractmethod\n",
        "    def fly(self) -> str:\n",
        "        pass\n",
        "\n",
        "class Sparrow(Bird):\n",
        "    def fly(self) -> str:\n",
        "        return \"Sparrow flies hight in sky.\"\n",
        "\n",
        "class Penguin(Bird):\n",
        "    def fly(self) -> str:\n",
        "        return \"Penguin cannot fly; it swims.\"\n",
        "\n",
        "# Polymorphic calls\n",
        "birds = [Sparrow(), Penguin()]\n",
        "for b in birds:\n",
        "    print(b.fly())\n",
        "\n",
        "\n"
      ],
      "metadata": {
        "colab": {
          "base_uri": "https://localhost:8080/"
        },
        "id": "qRt-lhomY5nj",
        "outputId": "f3cd7fbf-9193-4fa9-b19d-1e53898177ff"
      },
      "execution_count": 6,
      "outputs": [
        {
          "output_type": "stream",
          "name": "stdout",
          "text": [
            "Sparrow flies hight in sky.\n",
            "Penguin cannot fly; it swims.\n"
          ]
        }
      ]
    },
    {
      "cell_type": "code",
      "source": [
        "#Practical question\n",
        "'''\n",
        "Q5. Write a program to demonstrate encapsulation by creating a class BankAccount with private attributes\n",
        "balance and methods to deposit, withdraw, and check balance.\n",
        "\n",
        "'''\n",
        "'''\n",
        "Answere:5\n",
        "'''\n",
        "class BankAccount:\n",
        "    def __init__(self, initial_balance=0):\n",
        "        self.__balance = initial_balance\n",
        "\n",
        "    def deposit(self, amount):\n",
        "        if amount > 0:\n",
        "            self.__balance += amount\n",
        "            print(f\"Deposited ₹{amount} to your account no. xxxx30 successfully!!. \\n->New balance: ₹{self.__balance}\")\n",
        "        else:\n",
        "            print(\"Invalid deposit amount.\")\n",
        "\n",
        "    def withdraw(self, amount):\n",
        "        if 0 < amount <= self.__balance:\n",
        "            self.__balance -= amount\n",
        "            print(f\"Withdrew ₹{amount} from your account no. xxxx30 successfully!!. \\n->New balance: ₹{self.__balance}\")\n",
        "        else:\n",
        "            print(f\"Oops!! Invalid withdrawal amount or insufficient funds. Your Current balance is ₹{self.__balance}\")\n",
        "\n",
        "    def check_balance(self):\n",
        "        print(f\"-->Current balance: ₹{self.__balance}\")\n",
        "\n",
        "account = BankAccount(1000000)\n",
        "account.deposit(500000)\n",
        "account.withdraw(200000)"
      ],
      "metadata": {
        "colab": {
          "base_uri": "https://localhost:8080/"
        },
        "id": "uwjBfQTeZjwV",
        "outputId": "2d8785a6-67f4-4027-d0c8-bc85096e5cbd"
      },
      "execution_count": 9,
      "outputs": [
        {
          "output_type": "stream",
          "name": "stdout",
          "text": [
            "Deposited ₹500000 to your account no. xxxx30 successfully!!. \n",
            "->New balance: ₹1500000\n",
            "Withdrew ₹200000 from your account no. xxxx30 successfully!!. \n",
            "->New balance: ₹1300000\n"
          ]
        }
      ]
    },
    {
      "cell_type": "code",
      "source": [
        "#Practical question\n",
        "'''\n",
        "Q6. Demonstrate runtime polymorphism using a method play() in a base class Instrument. Derive classes Guitar\n",
        "and Piano that implement their own version of play().\n",
        "\n",
        "'''\n",
        "'''\n",
        "Answere:6\n",
        "'''\n",
        "class Instrument:\n",
        "    def play(self):\n",
        "        raise NotImplementedError(\"Subclass must implement abstract method\")\n",
        "class Guitar(Instrument):\n",
        "    def play(self):\n",
        "        print(\"Playing the guitar\")\n",
        "\n",
        "class Piano(Instrument):\n",
        "    def play(self):\n",
        "        print(\"Playing the piano\")\n",
        "def play_instrument(instrument: Instrument):\n",
        "    instrument.play()\n",
        "\n",
        "guitar = Guitar()\n",
        "piano = Piano()\n",
        "\n",
        "play_instrument(guitar)\n",
        "play_instrument(piano)"
      ],
      "metadata": {
        "colab": {
          "base_uri": "https://localhost:8080/"
        },
        "id": "S7GF4IYuaNHT",
        "outputId": "e3b5c679-6068-4a5e-afb0-cd7a3f3e3887"
      },
      "execution_count": 10,
      "outputs": [
        {
          "output_type": "stream",
          "name": "stdout",
          "text": [
            "Playing the guitar\n",
            "Playing the piano\n"
          ]
        }
      ]
    },
    {
      "cell_type": "code",
      "source": [
        "#Practical question\n",
        "'''\n",
        "Q7. Create a class MathOperations with a class method add_numbers() to add two numbers and a static\n",
        "method subtract_numbers() to subtract two numbers.\n",
        "\n",
        "'''\n",
        "'''\n",
        "Answere:-7\n",
        "'''\n",
        "class MathOperations:\n",
        "    @classmethod\n",
        "    def add_numbers(cls, a, b):\n",
        "        return a + b\n",
        "\n",
        "    @staticmethod\n",
        "    def subtract_numbers(a, b):\n",
        "        return a - b\n",
        "\n",
        "# Example usage\n",
        "result_add = MathOperations.add_numbers(50, 10)\n",
        "result_subtract = MathOperations.subtract_numbers(75, 12)\n",
        "\n",
        "print(f\"Addition result: {result_add}\")\n",
        "print(f\"Subtraction result: {result_subtract}\")"
      ],
      "metadata": {
        "colab": {
          "base_uri": "https://localhost:8080/"
        },
        "id": "ZnkGHPDhaYRM",
        "outputId": "2111acad-0f47-4fba-c646-78535ac6704b"
      },
      "execution_count": 11,
      "outputs": [
        {
          "output_type": "stream",
          "name": "stdout",
          "text": [
            "Addition result: 60\n",
            "Subtraction result: 63\n"
          ]
        }
      ]
    },
    {
      "cell_type": "code",
      "source": [
        "#Practical question\n",
        "'''\n",
        "Q8. Implement a class Person with a class method to count the total number of persons created.\n",
        "\n",
        "'''\n",
        "'''\n",
        "Answere:8\n",
        "'''\n",
        "class Person:\n",
        "    count = 0\n",
        "    def __init__(self, name):\n",
        "        self.name = name\n",
        "        Person.count += 1\n",
        "\n",
        "    @classmethod\n",
        "    def total_persons(cls):\n",
        "        return cls.count\n",
        "\n",
        "person1 = Person(\"Tarun\")\n",
        "person2 = Person(\"Neha\")\n",
        "person3 = Person(\"Bhavna\")\n",
        "person4 = Person(\"Shashank\")\n",
        "person5 = Person(\"Karan\")\n",
        "\n",
        "print(\"Total number of persons:\", Person.total_persons())"
      ],
      "metadata": {
        "colab": {
          "base_uri": "https://localhost:8080/"
        },
        "id": "NBopldGuaoYy",
        "outputId": "d58e4430-0f64-42d4-b9c3-b0a3aa769195"
      },
      "execution_count": 13,
      "outputs": [
        {
          "output_type": "stream",
          "name": "stdout",
          "text": [
            "Total number of persons: 5\n"
          ]
        }
      ]
    },
    {
      "cell_type": "code",
      "source": [
        "#Practical question\n",
        "'''\n",
        "Q9. Write a class Fraction with attributes numerator and denominator. Override the str method to display the\n",
        "fraction as \"numerator/denominator\".\n",
        "\n",
        "'''\n",
        "'''\n",
        "Answere:-9\n",
        "'''\n",
        "class Fraction:\n",
        "    def __init__(self, numerator, denominator):\n",
        "        self.numerator = numerator\n",
        "        self.denominator = denominator\n",
        "\n",
        "    def __str__(self):\n",
        "        return f\"{self.numerator}/{self.denominator}\"\n",
        "\n",
        "fraction = Fraction(5, 2)\n",
        "print(fraction)"
      ],
      "metadata": {
        "colab": {
          "base_uri": "https://localhost:8080/"
        },
        "id": "8seTpdScbFh_",
        "outputId": "373095ad-0a08-4fb6-905e-a5311d09fafa"
      },
      "execution_count": 14,
      "outputs": [
        {
          "output_type": "stream",
          "name": "stdout",
          "text": [
            "5/2\n"
          ]
        }
      ]
    },
    {
      "cell_type": "code",
      "source": [
        "#Practical question\n",
        "'''\n",
        "Q10. Demonstrate operator overloading by creating a class Vector and overriding the add method to add two\n",
        "vectors.\n",
        "\n",
        "'''\n",
        "'''\n",
        "Answere:10\n",
        "'''\n",
        "class Vector:\n",
        "    def __init__(self, x, y):\n",
        "        self.x = x\n",
        "        self.y = y\n",
        "\n",
        "    def __add__(self, other):\n",
        "        return Vector(self.x + other.x, self.y + other.y)\n",
        "\n",
        "    def __str__(self):\n",
        "        return f\"({self.x}, {self.y})\"\n",
        "\n",
        "v1 = Vector(2, 4)\n",
        "v2 = Vector(3, 9)\n",
        "v3 = v1 + v2\n",
        "print(v3)"
      ],
      "metadata": {
        "colab": {
          "base_uri": "https://localhost:8080/"
        },
        "id": "Bz6lYZmQbO9_",
        "outputId": "2fb114ca-3438-49a3-a981-c4b5db86845a"
      },
      "execution_count": 15,
      "outputs": [
        {
          "output_type": "stream",
          "name": "stdout",
          "text": [
            "(5, 13)\n"
          ]
        }
      ]
    },
    {
      "cell_type": "code",
      "source": [
        "#Practical question\n",
        "'''\n",
        "Q11. Create a class Person with attributes name and age. Add a method greet() that prints \"Hello, my name is\n",
        "{name} and I am {age} years old.\"\n",
        "\n",
        "'''\n",
        "'''\n",
        "Answere:-11\n",
        "'''\n",
        "class Person:\n",
        "    def __init__(self, name, age):\n",
        "        self.name = name\n",
        "        self.age = age\n",
        "\n",
        "    def greet(self):\n",
        "        print(f\"Hello, my name is {self.name} and I am {self.age} years old.\")\n",
        "\n",
        "person = Person(\"Tarun\", 31)\n",
        "person.greet()\n"
      ],
      "metadata": {
        "colab": {
          "base_uri": "https://localhost:8080/"
        },
        "id": "MTrx6Lbobe_R",
        "outputId": "f1450c92-d99c-418d-b68b-a687ac5b99f9"
      },
      "execution_count": 16,
      "outputs": [
        {
          "output_type": "stream",
          "name": "stdout",
          "text": [
            "Hello, my name is Tarun and I am 31 years old.\n"
          ]
        }
      ]
    },
    {
      "cell_type": "code",
      "source": [
        "#Practical question\n",
        "'''\n",
        "Q12. Implement a class Student with attributes name and grades. Create a method average_grade() to compute\n",
        "the average of the grades.\n",
        "\n",
        "'''\n",
        "'''\n",
        "Answere:-12\n",
        "'''\n",
        "class Student:\n",
        "    def __init__(self, name, grades):\n",
        "        self.name = name\n",
        "        self.grades = grades\n",
        "\n",
        "    def average_grade(self):\n",
        "        if not self.grades:\n",
        "            return 0\n",
        "        return sum(self.grades) / len(self.grades)\n",
        "\n",
        "student = Student(\"Tarun\", [85, 93, 88, 97, 94])\n",
        "print(\"The average grade of\",student.name, \"is:\", student.average_grade())"
      ],
      "metadata": {
        "colab": {
          "base_uri": "https://localhost:8080/"
        },
        "id": "AQHWj0mdbwmy",
        "outputId": "cba7ebc5-1616-4159-90a2-a398c874f728"
      },
      "execution_count": 17,
      "outputs": [
        {
          "output_type": "stream",
          "name": "stdout",
          "text": [
            "The average grade of Tarun is: 91.4\n"
          ]
        }
      ]
    },
    {
      "cell_type": "code",
      "source": [
        "#Practical question\n",
        "'''\n",
        "Q13. Create a class Rectangle with methods set_dimensions() to set the dimensions and area() to calculate the\n",
        "area.\n",
        "\n",
        "'''\n",
        "'''\n",
        "Answere:-13\n",
        "'''\n",
        "class Rectangle:\n",
        "    def __init__(self):\n",
        "        self.width = 0\n",
        "        self.height = 0\n",
        "\n",
        "    def set_dimensions(self, width, height):\n",
        "        self.width = width\n",
        "        self.height = height\n",
        "\n",
        "    def area(self):\n",
        "        return self.width * self.height\n",
        "\n",
        "rectangle = Rectangle()\n",
        "rectangle.set_dimensions(10, 20)\n",
        "print(f\"Area of the rectangle: {rectangle.area()}\")"
      ],
      "metadata": {
        "colab": {
          "base_uri": "https://localhost:8080/"
        },
        "id": "Gdt22DN1cAUG",
        "outputId": "23b4a085-8f3d-4940-d118-22f1adaf298a"
      },
      "execution_count": 18,
      "outputs": [
        {
          "output_type": "stream",
          "name": "stdout",
          "text": [
            "Area of the rectangle: 200\n"
          ]
        }
      ]
    },
    {
      "cell_type": "code",
      "source": [
        "#Practical question\n",
        "'''\n",
        "Q14. Create a class Employee with a method calculate_salary() that computes the salary based on hours worked\n",
        "and hourly rate. Create a derived class Manager that adds a bonus to the salary.\n",
        "\n",
        "'''\n",
        "'''\n",
        "Answere:14\n",
        "'''\n",
        "class Employee:\n",
        "    def __init__(self, name, hours_worked, hourly_rate):\n",
        "        self.name = name\n",
        "        self.hours_worked = hours_worked\n",
        "        self.hourly_rate = hourly_rate\n",
        "\n",
        "    def calculate_salary(self):\n",
        "        return self.hours_worked * self.hourly_rate\n",
        "\n",
        "class Manager(Employee):\n",
        "    def __init__(self, name, hours_worked, hourly_rate, bonus):\n",
        "        super().__init__(name, hours_worked, hourly_rate)\n",
        "        self.bonus = bonus\n",
        "\n",
        "    def calculate_salary(self):\n",
        "        return super().calculate_salary() + self.bonus\n",
        "\n",
        "employee = Employee(\"Neha\", 5000, 20)\n",
        "print(\"Employee Salary:\", employee.calculate_salary())\n",
        "print()\n",
        "manager = Manager(\"Tarun\", 7000, 40, 5000)\n",
        "print(\"Manager Salary:\", manager.calculate_salary())"
      ],
      "metadata": {
        "colab": {
          "base_uri": "https://localhost:8080/"
        },
        "id": "2GIuXrqdcMj-",
        "outputId": "a08b4cce-de19-4dec-9664-1d4c75e36207"
      },
      "execution_count": 25,
      "outputs": [
        {
          "output_type": "stream",
          "name": "stdout",
          "text": [
            "Employee Salary: 100000\n",
            "\n",
            "Manager Salary: 285000\n"
          ]
        }
      ]
    },
    {
      "cell_type": "code",
      "source": [
        "#Practical question\n",
        "'''\n",
        "Q15. Create a class Product with attributes name, price, and quantity. Implement a method total_price() that\n",
        "calculates the total price of the product.\n",
        "\n",
        "'''\n",
        "'''\n",
        "Answere:15\n",
        "'''\n",
        "class Product:\n",
        "    def __init__(self, name, price, quantity):\n",
        "        self.name = name\n",
        "        self.price = price\n",
        "        self.quantity = quantity\n",
        "\n",
        "    def total_price(self):\n",
        "        return self.price * self.quantity\n",
        "\n",
        "product = Product(\"Laptop\", 85000, 2)\n",
        "\n",
        "print(product.total_price())\n",
        ""
      ],
      "metadata": {
        "colab": {
          "base_uri": "https://localhost:8080/"
        },
        "id": "DAElItwiff3L",
        "outputId": "28f6acda-0fee-4edd-d641-92fc0832e04c"
      },
      "execution_count": 24,
      "outputs": [
        {
          "output_type": "stream",
          "name": "stdout",
          "text": [
            "170000\n"
          ]
        }
      ]
    },
    {
      "cell_type": "code",
      "source": [
        "#Practical question\n",
        "'''\n",
        "Q16. Create a class Animal with an abstract method sound(). Create two derived classes Cow and Sheep that\n",
        "implement the sound() method.\n",
        "\n",
        "'''\n",
        "'''\n",
        "Answere:16\n",
        "'''\n",
        "from abc import ABC, abstractmethod\n",
        "\n",
        "class Animal(ABC):\n",
        "    @abstractmethod\n",
        "    def sound(self):\n",
        "        pass\n",
        "\n",
        "class Cow(Animal):\n",
        "    def sound(self):\n",
        "        return \"Mauhh\"\n",
        "\n",
        "class Sheep(Animal):\n",
        "    def sound(self):\n",
        "        return \"Beahhhh\"\n",
        "\n",
        "# Example usage\n",
        "cow = Cow()\n",
        "sheep = Sheep()\n",
        "\n",
        "print(f\"Cow sound: {cow.sound()}\")\n",
        "print(f\"Sheep sound: {sheep.sound()}\")"
      ],
      "metadata": {
        "colab": {
          "base_uri": "https://localhost:8080/"
        },
        "id": "ZXQbPdbQfvkE",
        "outputId": "101f7719-074c-4eb7-a96d-de3f11d150fb"
      },
      "execution_count": 26,
      "outputs": [
        {
          "output_type": "stream",
          "name": "stdout",
          "text": [
            "Cow sound: Mauhh\n",
            "Sheep sound: Beahhhh\n"
          ]
        }
      ]
    },
    {
      "cell_type": "code",
      "source": [
        "#Practical question\n",
        "'''\n",
        "Q17. Create a class Book with attributes title, author, and year_published. Add a method get_book_info() that\n",
        "returns a formatted string with the book's details.\n",
        "\n",
        "'''\n",
        "'''\n",
        "Answere:-17\n",
        "'''\n",
        "class Book:\n",
        "    def __init__(self, title: str, author: str, year_published: int):\n",
        "        self.title = title\n",
        "        self.author = author\n",
        "        self.year_published = year_published\n",
        "\n",
        "    def get_book_info(self) -> str:\n",
        "        return f\"Title: {self.title}, Author: {self.author}, Year Published: {self.year_published}\"\n",
        "\n",
        "book = Book(\"Project Hail Mary\", \"Andy weir\", 2021)\n",
        "\n",
        "print(book.get_book_info())"
      ],
      "metadata": {
        "colab": {
          "base_uri": "https://localhost:8080/"
        },
        "id": "jNIA1ppHf4NK",
        "outputId": "a2c5f1db-c546-4f03-d58d-f9d47f8b6dd5"
      },
      "execution_count": 27,
      "outputs": [
        {
          "output_type": "stream",
          "name": "stdout",
          "text": [
            "Title: Project Hail Mary, Author: Andy weir, Year Published: 2021\n"
          ]
        }
      ]
    },
    {
      "cell_type": "code",
      "source": [
        "#Practical question\n",
        "'''\n",
        "Q18. Create a class House with attributes address and price. Create a derived class Mansion that adds an\n",
        "attribute number_of_rooms.\n",
        "\n",
        "'''\n",
        "'''\n",
        "Answere:-18\n",
        "'''\n",
        "class House:\n",
        "    def __init__(self, address, price):\n",
        "        self.address = address\n",
        "        self.price = price\n",
        "\n",
        "class Mansion(House):\n",
        "    def __init__(self, address, price, number_of_rooms):\n",
        "        super().__init__(address, price)\n",
        "        self.number_of_rooms = number_of_rooms\n",
        "\n",
        "# Example usage\n",
        "house = House(\"Perth\", 10000000)\n",
        "mansion = Mansion(\"Adelaide\", 50000000, 10)\n",
        "\n",
        "print(f\"House address: {house.address}, price: ₹{house.price}\")\n",
        "print(f\"Mansion address: {mansion.address}, price: ₹{mansion.price}, number of rooms: {mansion.number_of_rooms}\")\n",
        ""
      ],
      "metadata": {
        "colab": {
          "base_uri": "https://localhost:8080/"
        },
        "id": "T2pw_7APgvkC",
        "outputId": "040f2a9f-1f40-48b8-ad55-57e4b517d964"
      },
      "execution_count": 28,
      "outputs": [
        {
          "output_type": "stream",
          "name": "stdout",
          "text": [
            "House address: Perth, price: ₹10000000\n",
            "Mansion address: Adelaide, price: ₹50000000, number of rooms: 10\n"
          ]
        }
      ]
    }
  ]
}